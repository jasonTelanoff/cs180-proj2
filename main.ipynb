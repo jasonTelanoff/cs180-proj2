{
 "cells": [
  {
   "cell_type": "code",
   "execution_count": 1,
   "metadata": {},
   "outputs": [],
   "source": [
    "import utils"
   ]
  },
  {
   "cell_type": "code",
   "execution_count": 2,
   "metadata": {},
   "outputs": [],
   "source": [
    "image, dx, dy, gradient_magnitude, edge_image, gaussian_dx, gaussian_dy, gaussian_edges = utils.difference(\"images/cameraman.png\")\n",
    "\n",
    "edge_image = edge_image.astype(float)\n",
    "gaussian_edges = gaussian_edges.astype(float)\n",
    "\n",
    "utils.save_image(\"cameraman_dx.jpg\", dx)\n",
    "utils.save_image(\"cameraman_dy\", dy)\n",
    "utils.save_image(\"cameraman_gradient_magnitude\", gradient_magnitude)\n",
    "utils.save_image(\"cameraman_edge_image\", edge_image)\n",
    "utils.save_image(\"cameraman_gaussian_dx\", gaussian_dx)\n",
    "utils.save_image(\"cameraman_gaussian_dy\", gaussian_dy)\n",
    "utils.save_image(\"cameraman_gaussian_edges\", gaussian_edges)"
   ]
  },
  {
   "cell_type": "code",
   "execution_count": 3,
   "metadata": {},
   "outputs": [],
   "source": [
    "image, _, sharpened_image = utils.sharpen_image(\"images/taj.jpg\")\n",
    "\n",
    "utils.save_image(\"taj_sharpened\", sharpened_image)"
   ]
  },
  {
   "cell_type": "code",
   "execution_count": 4,
   "metadata": {},
   "outputs": [],
   "source": [
    "image, blurred_image, sharpened_image = utils.sharpen_image(\"images/tai.jpg\", alpha=2, blur=True)\n",
    "\n",
    "utils.save_image(\"tai\", image)\n",
    "utils.save_image(\"tai_blurred\", blurred_image)\n",
    "utils.save_image(\"tai_sharpened\", sharpened_image)"
   ]
  },
  {
   "cell_type": "code",
   "execution_count": 2,
   "metadata": {},
   "outputs": [],
   "source": [
    "hybrid_image, log_magnitute = utils.hybrid_image(\n",
    "    \"images/nutmeg.jpg\",\n",
    "    \"images/DerekPicture.jpg\",\n",
    "    (\n",
    "        (602.9285714285716, 289.78571428571433),\n",
    "        (746.9285714285716, 369.78571428571433),\n",
    "        (292.3571428571428, 343.04978354978346),\n",
    "        (449.7251082251082, 327.53463203463195),\n",
    "    ),\n",
    ")\n",
    "\n",
    "utils.save_image(\"hybrid_nutmeg_derek\", hybrid_image)\n",
    "utils.save_image(\"hybrid_nutmeg_derek_log_magnitute\", log_magnitute)"
   ]
  },
  {
   "cell_type": "code",
   "execution_count": 3,
   "metadata": {},
   "outputs": [],
   "source": [
    "hybrid_image, log_magnitute = utils.hybrid_image(\n",
    "    \"images/arch.jpg\",\n",
    "    \"images/llama.jpg\",\n",
    "    ((283.3463203463202, 367.71428571428567), (486.4220779220776, 363.25108225108215), (403.8528138528136, 374.4090909090909), (544.4437229437226, 367.71428571428567))\n",
    ")\n",
    "\n",
    "utils.save_image(\"hybrid_arch_llama\", hybrid_image)\n",
    "utils.save_image(\"hybrid_arch_llama_log_magnitute\", log_magnitute)"
   ]
  },
  {
   "cell_type": "code",
   "execution_count": 5,
   "metadata": {},
   "outputs": [],
   "source": [
    "hybrid_image, log_magnitute = utils.hybrid_image(\n",
    "    \"images/sad.jpg\",\n",
    "    \"images/happy.jfif\",\n",
    "    ((118.11935483870965, 98.67096774193561), (390.12580645161285, 80.26451612903236), (349.9761904761905, 157.42207792207796), (458.0281385281386, 140.7987012987013)),\n",
    "    2,\n",
    "    3,\n",
    ")\n",
    "\n",
    "utils.save_image(\"hybrid_sad_happy\", hybrid_image)\n",
    "utils.save_image(\"hybrid_sad_happy_log_magnitute\", log_magnitute)"
   ]
  },
  {
   "cell_type": "code",
   "execution_count": 6,
   "metadata": {},
   "outputs": [],
   "source": [
    "hybrid_image, log_magnitute = utils.hybrid_image(\n",
    "    \"images/matrix.jpg\",\n",
    "    \"images/keanu.jpg\",\n",
    "    (\n",
    "        (1.9025974025974222, 380.8203463203464),\n",
    "        (988.5476190476189, 382.5303030303031),\n",
    "        (104.69480519480521, 1185.8636363636358),\n",
    "        (1670.9285714285716, 1180.01948051948),\n",
    "    ),\n",
    ")\n",
    "\n",
    "utils.save_image(\"hybrid_matrix_keanu\", hybrid_image)\n",
    "utils.save_image(\"hybrid_matrix_keanu_log_magnitute\", log_magnitute)"
   ]
  },
  {
   "cell_type": "code",
   "execution_count": 7,
   "metadata": {},
   "outputs": [],
   "source": [
    "hybrid_image, log_magnitute = utils.hybrid_image(\n",
    "    \"images/pie.jpg\",\n",
    "    \"images/pizza.jpg\",\n",
    "    (\n",
    "        (10.409090909090537, 2085.318181818181),\n",
    "        (2995.1363636363626, 2102.7727272727266),\n",
    "        (383.81168831168816, 1469.0064935064931),\n",
    "        (3774.980519480519, 1442.4090909090905),\n",
    "    ),\n",
    ")\n",
    "\n",
    "utils.save_image(\"hybrid_pie_pizza\", hybrid_image)\n",
    "utils.save_image(\"hybrid_pie_pizza_log_magnitute\", log_magnitute)"
   ]
  },
  {
   "cell_type": "code",
   "execution_count": 10,
   "metadata": {},
   "outputs": [],
   "source": [
    "merged_image, parts1, parts2, summed_parts = utils.merge_images(\"images/apple.jpeg\", \"images/orange.jpeg\")\n",
    "\n",
    "utils.save_image(\"oraple/merged\", merged_image)\n",
    "for i, part in enumerate(parts1):\n",
    "    utils.save_image(f\"oraple/apple_part_{i}\", part)\n",
    "for i, part in enumerate(parts2):\n",
    "    utils.save_image(f\"oraple/orange_part_{i}\", part)\n",
    "for i, part in enumerate(summed_parts):\n",
    "    utils.save_image(f\"oraple/summed_part_{i}\", part)"
   ]
  },
  {
   "cell_type": "code",
   "execution_count": 11,
   "metadata": {},
   "outputs": [],
   "source": [
    "merged_image, parts1, parts2, summed_parts = utils.merge_images(\"images/apple.jpeg\", \"images/orange.jpeg\", horizontal=False)\n",
    "\n",
    "utils.save_image(\"oraple_vertical/merged\", merged_image)\n",
    "for i, part in enumerate(parts1):\n",
    "    utils.save_image(f\"oraple_vertical/apple_part_{i}\", part)\n",
    "for i, part in enumerate(parts2):\n",
    "    utils.save_image(f\"oraple_vertical/orange_part_{i}\", part)\n",
    "for i, part in enumerate(summed_parts):\n",
    "    utils.save_image(f\"oraple_vertical/summed_part_{i}\", part)"
   ]
  },
  {
   "cell_type": "code",
   "execution_count": 12,
   "metadata": {},
   "outputs": [],
   "source": [
    "merged_image, parts1, parts2, summed_parts = utils.merge_images(\n",
    "    \"images/asha2.jpg\",\n",
    "    \"images/asha1.jpg\",\n",
    "    pts=(\n",
    "        (186.07278242992527, 316.8016430159286),\n",
    "        (234.39383075097362, 337.5106637249493),\n",
    "        (182.50992344989936, 335.2814814237382),\n",
    "        (227.58249793423852, 352.7586021421555),\n",
    "    ),\n",
    ")\n",
    "\n",
    "utils.save_image(\"asha/merged\", merged_image)\n",
    "for i, part in enumerate(parts1):\n",
    "    utils.save_image(f\"asha/asha1_part_{i}\", part)\n",
    "for i, part in enumerate(parts2):\n",
    "    utils.save_image(f\"asha/asha2_part_{i}\", part)\n",
    "for i, part in enumerate(summed_parts):\n",
    "    utils.save_image(f\"asha/summed_part_{i}\", part)"
   ]
  },
  {
   "cell_type": "code",
   "execution_count": 13,
   "metadata": {},
   "outputs": [],
   "source": [
    "merged_image, mask_stack = utils.merge_images_mask(\n",
    "    \"images/steve.jpg\",\n",
    "    \"images/berkeley.jpg\",\n",
    "    \"images/mc_mask.jpg\",\n",
    ")\n",
    "\n",
    "utils.save_image(\"merged_steve_berkeley\", merged_image)"
   ]
  },
  {
   "cell_type": "code",
   "execution_count": 14,
   "metadata": {},
   "outputs": [],
   "source": [
    "merged_image, mask_stack = utils.merge_images_mask(\n",
    "    \"images/sauron.jpg\",\n",
    "    \"images/sauron_actor.jpg\",\n",
    "    \"images/sauron_mask.jpg\",\n",
    ")\n",
    "\n",
    "utils.save_image(\"merged_sauron\", merged_image)"
   ]
  },
  {
   "cell_type": "code",
   "execution_count": 15,
   "metadata": {},
   "outputs": [],
   "source": [
    "merged_image, mask_stack = utils.merge_images_mask(\n",
    "    \"images/sauron_actor2.jpg\",\n",
    "    \"images/sauron2.jpg\",\n",
    "    \"images/sauron_mask_2.jpg\",\n",
    ")\n",
    "\n",
    "utils.save_image(\"merged_sauron2\", merged_image)"
   ]
  }
 ],
 "metadata": {
  "kernelspec": {
   "display_name": "Python 3",
   "language": "python",
   "name": "python3"
  },
  "language_info": {
   "codemirror_mode": {
    "name": "ipython",
    "version": 3
   },
   "file_extension": ".py",
   "mimetype": "text/x-python",
   "name": "python",
   "nbconvert_exporter": "python",
   "pygments_lexer": "ipython3",
   "version": "3.11.3"
  }
 },
 "nbformat": 4,
 "nbformat_minor": 2
}
